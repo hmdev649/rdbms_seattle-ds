{
 "cells": [
  {
   "cell_type": "markdown",
   "metadata": {
    "slideshow": {
     "slide_type": "slide"
    }
   },
   "source": [
    "![sql](img/sql-logo.jpg)\n",
    "\n",
    "# A guide to databases, SQL, & using them with `pandas`"
   ]
  },
  {
   "cell_type": "markdown",
   "metadata": {
    "slideshow": {
     "slide_type": "slide"
    }
   },
   "source": [
    "Let's start with Peter Bell's great blog piece [on relational databases](https://flatironschool.com/blog/an-introduction-to-the-relational-database).\n",
    "\n",
    "Themes:\n",
    "- Structured vs. Unstructured Data\n",
    "- Records (Rows) in Tables in Databases\n",
    "- Eliminating Redundancy"
   ]
  },
  {
   "cell_type": "markdown",
   "metadata": {
    "slideshow": {
     "slide_type": "slide"
    }
   },
   "source": [
    "## Learning goals:\n",
    "- Goal 1: Summarize the use case for sql in the data science skill set\n",
    "- Goal 2: Define key sql terminology\n",
    "- Goal 3: Get information about DB schema and table structure\n",
    "- Goal 4: Use basic SQL commands:\n",
    "    - Construct SQL queries\n",
    "    - Use JOIN to merge tables along logical columns\n",
    "    - Group Data with SQL\n",
    "- Goal 5: Query data from pandas dataframes using SQL\n",
    "- Goal 6: Convert SQL to pandas"
   ]
  },
  {
   "cell_type": "markdown",
   "metadata": {
    "slideshow": {
     "slide_type": "slide"
    }
   },
   "source": [
    "## Goal 1: Summarize\n",
    "\n",
    "[Netflix has a great article](https://medium.com/netflix-techblog/notebook-innovation-591ee3221233) describing three different data roles at their company, their different needs, and their toolsets.\n",
    "\n",
    "![netflix](img/netflix-data-roles.jpeg)\n",
    "\n",
    "Examining that graphic, SQL shows up as one of the tools of the _Data Engineer_ "
   ]
  },
  {
   "cell_type": "markdown",
   "metadata": {
    "slideshow": {
     "slide_type": "slide"
    }
   },
   "source": [
    "Data Engineers provide the essential data architecture services that make data science possible.\n",
    "\n",
    "![hierarchy](img/ai-hierachy.png)\n",
    "\n",
    "[Source: Monica Rogati’s fantastic Medium post “The AI Hierarchy of Needs”\n",
    "](https://hackernoon.com/the-ai-hierarchy-of-needs-18f111fcc007)"
   ]
  },
  {
   "cell_type": "markdown",
   "metadata": {
    "slideshow": {
     "slide_type": "slide"
    }
   },
   "source": [
    "### What is a Relational Database? \n",
    "\n",
    "![rdb](img/relational-dbms-model.png)\n",
    "[reference for image ](https://www.studytonight.com/dbms/database-model.php)"
   ]
  },
  {
   "cell_type": "markdown",
   "metadata": {
    "slideshow": {
     "slide_type": "slide"
    }
   },
   "source": [
    "### POPULAR RDBMS\n",
    "\n",
    "- SQLite\n",
    "- MySQL\n",
    "- PostgreSql\n",
    "- Oracle DB\n",
    "- SQL Server"
   ]
  },
  {
   "cell_type": "markdown",
   "metadata": {
    "slideshow": {
     "slide_type": "slide"
    }
   },
   "source": [
    "***\n",
    "## Goal 2: Database terminology\n",
    "\n",
    "### Relational Database Schema\n",
    "\n",
    "![schema](img/MySQL_Schema_Music_Example.png)\n",
    "\n",
    "[source of image](https://database.guide/what-is-a-database-schema/)\n",
    "\n",
    "This sort of picture is sometimes called an **E**ntity **R**elationship **D**iagram. [Here](https://www.smartdraw.com/entity-relationship-diagram/) is another good resource for explaining typical ERD conventions."
   ]
  },
  {
   "cell_type": "markdown",
   "metadata": {
    "slideshow": {
     "slide_type": "slide"
    }
   },
   "source": [
    "### Table columns view\n",
    "![table example](img/columns.png)"
   ]
  },
  {
   "cell_type": "markdown",
   "metadata": {
    "slideshow": {
     "slide_type": "slide"
    }
   },
   "source": [
    "### Terminology\n",
    "\n",
    "- Schema\n",
    "- Primary Key\n",
    "- Foreign Key\n",
    "- Structured queries\n",
    "- Views"
   ]
  },
  {
   "cell_type": "markdown",
   "metadata": {
    "slideshow": {
     "slide_type": "slide"
    }
   },
   "source": [
    "***\n",
    "### SQLite\n",
    "\n",
    "![sqlite](img/SQLite-Python.jpg)\n",
    "\n",
    "\"SQLite is a C library that provides a lightweight disk-based database that doesn’t require a separate server process and allows accessing the database using a nonstandard variant of the SQL query language. Some applications can use SQLite for internal data storage. It’s also possible to prototype an application using SQLite and then port the code to a larger database such as PostgreSQL or Oracle.\" - [sqlite documentation](https://docs.python.org/2/library/sqlite3.html)\n",
    "\n"
   ]
  },
  {
   "cell_type": "markdown",
   "metadata": {
    "slideshow": {
     "slide_type": "slide"
    }
   },
   "source": [
    "## Goal 3: Get going with sqlite!"
   ]
  },
  {
   "cell_type": "code",
   "execution_count": 1,
   "metadata": {
    "slideshow": {
     "slide_type": "fragment"
    }
   },
   "outputs": [],
   "source": [
    "import sqlite3"
   ]
  },
  {
   "cell_type": "markdown",
   "metadata": {
    "slideshow": {
     "slide_type": "slide"
    }
   },
   "source": [
    "#### Load a DB object with `connect` and `cursor`"
   ]
  },
  {
   "cell_type": "code",
   "execution_count": 2,
   "metadata": {
    "slideshow": {
     "slide_type": "fragment"
    }
   },
   "outputs": [],
   "source": [
    "con = sqlite3.connect('flights.db')\n",
    "cursor = con.cursor()"
   ]
  },
  {
   "cell_type": "markdown",
   "metadata": {
    "slideshow": {
     "slide_type": "slide"
    }
   },
   "source": [
    "#### Use sqlite_master to find all the tables in the schema\n",
    "Get the schema of a database from a db in sqlite"
   ]
  },
  {
   "cell_type": "code",
   "execution_count": 3,
   "metadata": {},
   "outputs": [
    {
     "name": "stdout",
     "output_type": "stream",
     "text": [
      "[('airports',), ('airlines',), ('routes',)]\n"
     ]
    }
   ],
   "source": [
    "cursor.execute(\n",
    "\"\"\"\n",
    "SELECT name\n",
    "FROM sqlite_master\n",
    "WHERE type='table';\n",
    "\"\"\"\n",
    ")\n",
    "print(cursor.fetchall())"
   ]
  },
  {
   "cell_type": "markdown",
   "metadata": {},
   "source": [
    "For more on \"sqlite_master\", see [here](https://www.techonthenet.com/sqlite/sys_tables/index.php)."
   ]
  },
  {
   "cell_type": "markdown",
   "metadata": {
    "slideshow": {
     "slide_type": "slide"
    }
   },
   "source": [
    "#### Get information about one table\n",
    "\n",
    "**A note about** `execute`<br>\n",
    "Each time you use it, you reset the value of cursor"
   ]
  },
  {
   "cell_type": "code",
   "execution_count": 36,
   "metadata": {},
   "outputs": [
    {
     "name": "stdout",
     "output_type": "stream",
     "text": [
      "(('index', None, None, None, None, None, None), ('airline', None, None, None, None, None, None), ('airline_id', None, None, None, None, None, None), ('source', None, None, None, None, None, None), ('source_id', None, None, None, None, None, None), ('dest', None, None, None, None, None, None), ('dest_id', None, None, None, None, None, None), ('codeshare', None, None, None, None, None, None), ('stops', None, None, None, None, None, None), ('equipment', None, None, None, None, None, None))\n",
      "[(0, '2B', '410', 'AER', '2965', 'KZN', '2990', None, '0', 'CR2'), (1, '2B', '410', 'ASF', '2966', 'KZN', '2990', None, '0', 'CR2'), (2, '2B', '410', 'ASF', '2966', 'MRV', '2962', None, '0', 'CR2'), (3, '2B', '410', 'CEK', '2968', 'KZN', '2990', None, '0', 'CR2'), (4, '2B', '410', 'CEK', '2968', 'OVB', '4078', None, '0', 'CR2')]\n",
      "(('index', None, None, None, None, None, None), ('id', None, None, None, None, None, None), ('name', None, None, None, None, None, None), ('city', None, None, None, None, None, None), ('country', None, None, None, None, None, None), ('code', None, None, None, None, None, None), ('icao', None, None, None, None, None, None), ('latitude', None, None, None, None, None, None), ('longitude', None, None, None, None, None, None), ('altitude', None, None, None, None, None, None), ('offset', None, None, None, None, None, None), ('dst', None, None, None, None, None, None), ('timezone', None, None, None, None, None, None))\n",
      "[(0, '1', 'Goroka', 'Goroka', 'Papua New Guinea', 'GKA', 'AYGA', '-6.081689', '145.391881', '5282', '10', 'U', 'Pacific/Port_Moresby'), (1, '2', 'Madang', 'Madang', 'Papua New Guinea', 'MAG', 'AYMD', '-5.207083', '145.7887', '20', '10', 'U', 'Pacific/Port_Moresby'), (2, '3', 'Mount Hagen', 'Mount Hagen', 'Papua New Guinea', 'HGU', 'AYMH', '-5.826789', '144.295861', '5388', '10', 'U', 'Pacific/Port_Moresby'), (3, '4', 'Nadzab', 'Nadzab', 'Papua New Guinea', 'LAE', 'AYNZ', '-6.569828', '146.726242', '239', '10', 'U', 'Pacific/Port_Moresby'), (4, '5', 'Port Moresby Jacksons Intl', 'Port Moresby', 'Papua New Guinea', 'POM', 'AYPY', '-9.443383', '147.22005', '146', '10', 'U', 'Pacific/Port_Moresby')]\n"
     ]
    }
   ],
   "source": [
    "cursor.execute(\n",
    "\"\"\"\n",
    "SELECT *\n",
    "FROM routes\n",
    "\"\"\"\n",
    ")\n",
    "\n",
    "print(cursor.description)\n",
    "print(cursor.fetchmany(5))\n",
    "\n",
    "cursor.execute(\n",
    "\"\"\"\n",
    "SELECT *\n",
    "FROM airports\n",
    "\"\"\"\n",
    ")\n",
    "\n",
    "print(cursor.description)\n",
    "print(cursor.fetchmany(5))\n"
   ]
  },
  {
   "cell_type": "markdown",
   "metadata": {
    "slideshow": {
     "slide_type": "slide"
    }
   },
   "source": [
    "#### Use description"
   ]
  },
  {
   "cell_type": "code",
   "execution_count": 5,
   "metadata": {
    "scrolled": true,
    "slideshow": {
     "slide_type": "fragment"
    }
   },
   "outputs": [
    {
     "data": {
      "text/plain": [
       "(('index', None, None, None, None, None, None),\n",
       " ('id', None, None, None, None, None, None),\n",
       " ('name', None, None, None, None, None, None),\n",
       " ('city', None, None, None, None, None, None),\n",
       " ('country', None, None, None, None, None, None),\n",
       " ('code', None, None, None, None, None, None),\n",
       " ('icao', None, None, None, None, None, None),\n",
       " ('latitude', None, None, None, None, None, None),\n",
       " ('longitude', None, None, None, None, None, None),\n",
       " ('altitude', None, None, None, None, None, None),\n",
       " ('offset', None, None, None, None, None, None),\n",
       " ('dst', None, None, None, None, None, None),\n",
       " ('timezone', None, None, None, None, None, None))"
      ]
     },
     "execution_count": 5,
     "metadata": {},
     "output_type": "execute_result"
    }
   ],
   "source": [
    "cursor.description"
   ]
  },
  {
   "cell_type": "markdown",
   "metadata": {},
   "source": [
    "The septuple structure has to do with Python API [compatibility issues](https://kite.com/python/docs/sqlite3.Cursor.description)."
   ]
  },
  {
   "cell_type": "markdown",
   "metadata": {
    "slideshow": {
     "slide_type": "slide"
    }
   },
   "source": [
    "#### Making fetch happen\n",
    "\n",
    "`.fetchall()` is how you get the query results out of the object.\n",
    "\n",
    "You can also `.fetchone()` or `.fetchmany()`. The latter takes a number of records to return as a parameter."
   ]
  },
  {
   "cell_type": "code",
   "execution_count": 6,
   "metadata": {},
   "outputs": [
    {
     "data": {
      "text/plain": [
       "[(0,\n",
       "  '1',\n",
       "  'Goroka',\n",
       "  'Goroka',\n",
       "  'Papua New Guinea',\n",
       "  'GKA',\n",
       "  'AYGA',\n",
       "  '-6.081689',\n",
       "  '145.391881',\n",
       "  '5282',\n",
       "  '10',\n",
       "  'U',\n",
       "  'Pacific/Port_Moresby'),\n",
       " (1,\n",
       "  '2',\n",
       "  'Madang',\n",
       "  'Madang',\n",
       "  'Papua New Guinea',\n",
       "  'MAG',\n",
       "  'AYMD',\n",
       "  '-5.207083',\n",
       "  '145.7887',\n",
       "  '20',\n",
       "  '10',\n",
       "  'U',\n",
       "  'Pacific/Port_Moresby'),\n",
       " (2,\n",
       "  '3',\n",
       "  'Mount Hagen',\n",
       "  'Mount Hagen',\n",
       "  'Papua New Guinea',\n",
       "  'HGU',\n",
       "  'AYMH',\n",
       "  '-5.826789',\n",
       "  '144.295861',\n",
       "  '5388',\n",
       "  '10',\n",
       "  'U',\n",
       "  'Pacific/Port_Moresby'),\n",
       " (3,\n",
       "  '4',\n",
       "  'Nadzab',\n",
       "  'Nadzab',\n",
       "  'Papua New Guinea',\n",
       "  'LAE',\n",
       "  'AYNZ',\n",
       "  '-6.569828',\n",
       "  '146.726242',\n",
       "  '239',\n",
       "  '10',\n",
       "  'U',\n",
       "  'Pacific/Port_Moresby'),\n",
       " (4,\n",
       "  '5',\n",
       "  'Port Moresby Jacksons Intl',\n",
       "  'Port Moresby',\n",
       "  'Papua New Guinea',\n",
       "  'POM',\n",
       "  'AYPY',\n",
       "  '-9.443383',\n",
       "  '147.22005',\n",
       "  '146',\n",
       "  '10',\n",
       "  'U',\n",
       "  'Pacific/Port_Moresby'),\n",
       " (5,\n",
       "  '6',\n",
       "  'Wewak Intl',\n",
       "  'Wewak',\n",
       "  'Papua New Guinea',\n",
       "  'WWK',\n",
       "  'AYWK',\n",
       "  '-3.583828',\n",
       "  '143.669186',\n",
       "  '19',\n",
       "  '10',\n",
       "  'U',\n",
       "  'Pacific/Port_Moresby'),\n",
       " (6,\n",
       "  '7',\n",
       "  'Narsarsuaq',\n",
       "  'Narssarssuaq',\n",
       "  'Greenland',\n",
       "  'UAK',\n",
       "  'BGBW',\n",
       "  '61.160517',\n",
       "  '-45.425978',\n",
       "  '112',\n",
       "  '-3',\n",
       "  'E',\n",
       "  'America/Godthab'),\n",
       " (7,\n",
       "  '8',\n",
       "  'Nuuk',\n",
       "  'Godthaab',\n",
       "  'Greenland',\n",
       "  'GOH',\n",
       "  'BGGH',\n",
       "  '64.190922',\n",
       "  '-51.678064',\n",
       "  '283',\n",
       "  '-3',\n",
       "  'E',\n",
       "  'America/Godthab'),\n",
       " (8,\n",
       "  '9',\n",
       "  'Sondre Stromfjord',\n",
       "  'Sondrestrom',\n",
       "  'Greenland',\n",
       "  'SFJ',\n",
       "  'BGSF',\n",
       "  '67.016969',\n",
       "  '-50.689325',\n",
       "  '165',\n",
       "  '-3',\n",
       "  'E',\n",
       "  'America/Godthab'),\n",
       " (9,\n",
       "  '10',\n",
       "  'Thule Air Base',\n",
       "  'Thule',\n",
       "  'Greenland',\n",
       "  'THU',\n",
       "  'BGTL',\n",
       "  '76.531203',\n",
       "  '-68.703161',\n",
       "  '251',\n",
       "  '-4',\n",
       "  'E',\n",
       "  'America/Thule')]"
      ]
     },
     "execution_count": 6,
     "metadata": {},
     "output_type": "execute_result"
    }
   ],
   "source": [
    "cursor.fetchmany(10)"
   ]
  },
  {
   "cell_type": "markdown",
   "metadata": {
    "slideshow": {
     "slide_type": "slide"
    }
   },
   "source": [
    "**Task:** Get the descriptive data for airlines and routes tables"
   ]
  },
  {
   "cell_type": "code",
   "execution_count": 16,
   "metadata": {},
   "outputs": [
    {
     "name": "stdout",
     "output_type": "stream",
     "text": [
      "[]\n"
     ]
    }
   ],
   "source": [
    "cursor.execute(\n",
    "\"\"\"\n",
    "SELECT * \n",
    "from airlines\n",
    "WHERE 'country' = 'United Kingdom'\n",
    "\n",
    "\"\"\"\n",
    ")\n",
    "print(cursor.fetchall())"
   ]
  },
  {
   "cell_type": "code",
   "execution_count": null,
   "metadata": {
    "scrolled": true
   },
   "outputs": [],
   "source": []
  },
  {
   "cell_type": "markdown",
   "metadata": {
    "slideshow": {
     "slide_type": "slide"
    }
   },
   "source": [
    "***\n",
    "## Goal 4: Use basic SQL commands \n",
    "- Construct SQL queries\n",
    "- Use JOIN to merge tables along logical columns\n",
    "- Grouping Data with SQL"
   ]
  },
  {
   "cell_type": "markdown",
   "metadata": {
    "slideshow": {
     "slide_type": "slide"
    }
   },
   "source": [
    "### Construct SQL queries"
   ]
  },
  {
   "cell_type": "markdown",
   "metadata": {
    "slideshow": {
     "slide_type": "fragment"
    }
   },
   "source": [
    "**SELECT**"
   ]
  },
  {
   "cell_type": "markdown",
   "metadata": {
    "slideshow": {
     "slide_type": "fragment"
    }
   },
   "source": [
    "**FROM**"
   ]
  },
  {
   "cell_type": "markdown",
   "metadata": {
    "slideshow": {
     "slide_type": "fragment"
    }
   },
   "source": [
    "**WHERE**"
   ]
  },
  {
   "cell_type": "markdown",
   "metadata": {},
   "source": [
    "**GROUP BY**"
   ]
  },
  {
   "cell_type": "markdown",
   "metadata": {
    "slideshow": {
     "slide_type": "fragment"
    }
   },
   "source": [
    "**ORDER BY**"
   ]
  },
  {
   "cell_type": "markdown",
   "metadata": {
    "slideshow": {
     "slide_type": "fragment"
    }
   },
   "source": [
    "**LIMIT**"
   ]
  },
  {
   "cell_type": "markdown",
   "metadata": {
    "slideshow": {
     "slide_type": "slide"
    }
   },
   "source": [
    "#### Options for each:"
   ]
  },
  {
   "cell_type": "markdown",
   "metadata": {
    "slideshow": {
     "slide_type": "fragment"
    }
   },
   "source": [
    "**Select**:  `DISTINCT`, using `AS` to rename columns, single number aggregates, `COUNT()` to count, `*` for \"all\""
   ]
  },
  {
   "cell_type": "markdown",
   "metadata": {
    "slideshow": {
     "slide_type": "fragment"
    }
   },
   "source": [
    "**From:** also uses aliasing with `AS`"
   ]
  },
  {
   "cell_type": "markdown",
   "metadata": {
    "slideshow": {
     "slide_type": "fragment"
    }
   },
   "source": [
    "**Where**: `=`, `BETWEEN`, `IN`, wildcards with `%`, `AND`, `OR`, `NOT` pattern matching with `LIKE` and `ILIKE`"
   ]
  },
  {
   "cell_type": "markdown",
   "metadata": {
    "slideshow": {
     "slide_type": "fragment"
    }
   },
   "source": [
    "**Order by**: `ASC` and `DESC`"
   ]
  },
  {
   "cell_type": "markdown",
   "metadata": {
    "slideshow": {
     "slide_type": "fragment"
    }
   },
   "source": [
    "**Limit**:  #"
   ]
  },
  {
   "cell_type": "markdown",
   "metadata": {
    "slideshow": {
     "slide_type": "skip"
    }
   },
   "source": [
    "***"
   ]
  },
  {
   "cell_type": "markdown",
   "metadata": {
    "slideshow": {
     "slide_type": "slide"
    }
   },
   "source": [
    "**Task**: \n",
    "- Select only active airlines in the United Kingdom from the airlines table <br/>\n",
    "Hint: The values for 'active' are 'Y' and 'N'.\n",
    "- Select the unique list of countries with airports"
   ]
  },
  {
   "cell_type": "code",
   "execution_count": 26,
   "metadata": {},
   "outputs": [
    {
     "data": {
      "text/plain": [
       "[('Astraeus',),\n",
       " ('Air Southwest',),\n",
       " ('Aurigny Air Services',),\n",
       " ('Air Wales',),\n",
       " ('AD Aviation',),\n",
       " ('Air Foyle',),\n",
       " ('British Airways',),\n",
       " ('British International Helicopters',),\n",
       " ('bmi',),\n",
       " ('bmibaby',),\n",
       " ('British Midland Regional',),\n",
       " ('British Mediterranean Airways',),\n",
       " ('BA CityFlyer',),\n",
       " ('Crest Aviation',),\n",
       " ('Eastern Airways',),\n",
       " ('Excel Airways',),\n",
       " ('Excel Charter',),\n",
       " ('easyJet',),\n",
       " ('First Choice Airways',),\n",
       " ('Flightline',),\n",
       " ('Flybe',),\n",
       " ('Flyglobespan',),\n",
       " ('GB Airways',),\n",
       " ('Highland Airways',),\n",
       " ('Jet2.com',),\n",
       " ('Monarch Airlines',),\n",
       " ('MyTravel Airways',),\n",
       " ('Norfolk County Flight College',),\n",
       " ('Kinloss Flying Training Unit',),\n",
       " ('ScotAirways',),\n",
       " ('Thomas Cook Airlines',),\n",
       " ('Thomsonfly',),\n",
       " ('Virgin Atlantic Airways',),\n",
       " ('Jc royal.britannica',),\n",
       " ('Royal European Airlines',),\n",
       " ('CB Airways UK ( Interliging Flights )',),\n",
       " ('Air Cudlua',),\n",
       " ('BBN-Airways',),\n",
       " ('Rainbow Air Euro',),\n",
       " ('All Europe',)]"
      ]
     },
     "execution_count": 26,
     "metadata": {},
     "output_type": "execute_result"
    }
   ],
   "source": [
    "cursor.execute(\n",
    "\"\"\"\n",
    "   SELECT DISTINCT(name) \n",
    "   FROM airlines\n",
    "   WHERE country == 'United Kingdom' AND active == 'Y'\n",
    "\"\"\"\n",
    ")\n",
    "cursor.fetchall()"
   ]
  },
  {
   "cell_type": "code",
   "execution_count": null,
   "metadata": {},
   "outputs": [],
   "source": [
    "cursor.execute(\n",
    "\"\"\"\n",
    "    \n",
    "\"\"\"\n",
    ")"
   ]
  },
  {
   "cell_type": "markdown",
   "metadata": {
    "slideshow": {
     "slide_type": "slide"
    }
   },
   "source": [
    "### SQL Joins"
   ]
  },
  {
   "cell_type": "markdown",
   "metadata": {
    "slideshow": {
     "slide_type": "fragment"
    }
   },
   "source": [
    "SQL joins can be used to both **add** data to a table and **remove** data from a table. "
   ]
  },
  {
   "cell_type": "markdown",
   "metadata": {
    "slideshow": {
     "slide_type": "fragment"
    }
   },
   "source": [
    "![venn](img/venn.png)"
   ]
  },
  {
   "cell_type": "markdown",
   "metadata": {
    "slideshow": {
     "slide_type": "slide"
    }
   },
   "source": [
    "**Task** Write a query that will join the latitude and longitude data from the airports table to the information on the routes table. <br/>\n",
    "Hint: Which column can serve as the link between the two tables? That is, which column in `airports` can serve as foreign key to `routes`?"
   ]
  },
  {
   "cell_type": "code",
   "execution_count": 44,
   "metadata": {},
   "outputs": [
    {
     "data": {
      "text/plain": [
       "<sqlite3.Cursor at 0x1102e4880>"
      ]
     },
     "execution_count": 44,
     "metadata": {},
     "output_type": "execute_result"
    }
   ],
   "source": [
    "cursor.execute(\n",
    "\"\"\"\n",
    "    SELECT latitude, longitude FROM airports\n",
    "    LEFT JOIN routes ON airports.code == routes.source\n",
    "\n",
    "\"\"\"\n",
    ")"
   ]
  },
  {
   "cell_type": "code",
   "execution_count": null,
   "metadata": {},
   "outputs": [],
   "source": []
  },
  {
   "cell_type": "code",
   "execution_count": null,
   "metadata": {
    "slideshow": {
     "slide_type": "skip"
    }
   },
   "outputs": [],
   "source": []
  },
  {
   "cell_type": "markdown",
   "metadata": {
    "slideshow": {
     "slide_type": "slide"
    }
   },
   "source": [
    "### Grouping statements\n",
    "\n",
    "Combines `select` and `group by` when you want aggregates by values"
   ]
  },
  {
   "cell_type": "markdown",
   "metadata": {
    "slideshow": {
     "slide_type": "fragment"
    }
   },
   "source": [
    "`select` `min(x)` ... `max()`, `sum()`, etc"
   ]
  },
  {
   "cell_type": "markdown",
   "metadata": {
    "slideshow": {
     "slide_type": "fragment"
    }
   },
   "source": [
    "`group by x`"
   ]
  },
  {
   "cell_type": "markdown",
   "metadata": {
    "slideshow": {
     "slide_type": "slide"
    }
   },
   "source": [
    "**Task**<br>\n",
    "- Which countries have the highest numbers of active airlines?\n",
    "- Which countries have the highest numbers of inactive airlines?\n",
    "- What about airports by time zone?"
   ]
  },
  {
   "cell_type": "code",
   "execution_count": 45,
   "metadata": {},
   "outputs": [
    {
     "data": {
      "text/plain": [
       "[(141, 'United States'),\n",
       " (72, 'Russia'),\n",
       " (40, 'United Kingdom'),\n",
       " (37, 'Germany'),\n",
       " (34, 'Canada'),\n",
       " (26, 'Australia'),\n",
       " (25, 'China'),\n",
       " (24, 'Spain'),\n",
       " (23, 'Brazil'),\n",
       " (22, 'France'),\n",
       " (19, 'Japan'),\n",
       " (18, 'Italy'),\n",
       " (17, 'India'),\n",
       " (17, 'Indonesia'),\n",
       " (16, 'Thailand'),\n",
       " (16, 'Turkey'),\n",
       " (15, 'Sweden'),\n",
       " (14, 'Switzerland'),\n",
       " (13, 'Portugal'),\n",
       " (13, 'Ukraine'),\n",
       " (12, 'Austria'),\n",
       " (12, 'Egypt'),\n",
       " (12, 'Finland'),\n",
       " (12, 'Mexico'),\n",
       " (11, 'Peru')]"
      ]
     },
     "execution_count": 45,
     "metadata": {},
     "output_type": "execute_result"
    }
   ],
   "source": [
    "cursor.execute(\n",
    "\"\"\"\n",
    "SELECT COUNT() num, country\n",
    "FROM airlines\n",
    "WHERE active='Y'\n",
    "GROUP BY country\n",
    "HAVING num > 10\n",
    "ORDER BY num DESC\n",
    "LIMIT 30\n",
    "\"\"\"\n",
    ").fetchall()"
   ]
  },
  {
   "cell_type": "code",
   "execution_count": null,
   "metadata": {},
   "outputs": [],
   "source": []
  },
  {
   "cell_type": "code",
   "execution_count": null,
   "metadata": {},
   "outputs": [],
   "source": []
  },
  {
   "cell_type": "markdown",
   "metadata": {
    "slideshow": {
     "slide_type": "slide"
    }
   },
   "source": [
    "## Goal 5: Using sql within pandas to filter\n",
    "\n",
    "`.query()`\n",
    "\n",
    "[query documentation](https://pandas.pydata.org/pandas-docs/stable/reference/api/pandas.DataFrame.query.html)"
   ]
  },
  {
   "cell_type": "code",
   "execution_count": 46,
   "metadata": {
    "slideshow": {
     "slide_type": "slide"
    }
   },
   "outputs": [
    {
     "data": {
      "text/plain": [
       "Animal ID           object\n",
       "Name                object\n",
       "DateTime            object\n",
       "MonthYear           object\n",
       "Date of Birth       object\n",
       "Outcome Type        object\n",
       "Outcome Subtype     object\n",
       "Animal Type         object\n",
       "Sex upon Outcome    object\n",
       "Age upon Outcome    object\n",
       "Breed               object\n",
       "Color               object\n",
       "dtype: object"
      ]
     },
     "execution_count": 46,
     "metadata": {},
     "output_type": "execute_result"
    }
   ],
   "source": [
    "# Get data for an example\n",
    "import pandas as pd\n",
    "shelter_data=pd.read_csv('https://data.austintexas.gov/api/\\\n",
    "views/9t4d-g238/rows.csv?accessType=DOWNLOAD')\n",
    "shelter_data.dtypes"
   ]
  },
  {
   "cell_type": "code",
   "execution_count": 47,
   "metadata": {},
   "outputs": [
    {
     "data": {
      "text/html": [
       "<div>\n",
       "<style scoped>\n",
       "    .dataframe tbody tr th:only-of-type {\n",
       "        vertical-align: middle;\n",
       "    }\n",
       "\n",
       "    .dataframe tbody tr th {\n",
       "        vertical-align: top;\n",
       "    }\n",
       "\n",
       "    .dataframe thead th {\n",
       "        text-align: right;\n",
       "    }\n",
       "</style>\n",
       "<table border=\"1\" class=\"dataframe\">\n",
       "  <thead>\n",
       "    <tr style=\"text-align: right;\">\n",
       "      <th></th>\n",
       "      <th>Animal ID</th>\n",
       "      <th>Name</th>\n",
       "      <th>DateTime</th>\n",
       "      <th>MonthYear</th>\n",
       "      <th>Date of Birth</th>\n",
       "      <th>Outcome Type</th>\n",
       "      <th>Outcome Subtype</th>\n",
       "      <th>Animal Type</th>\n",
       "      <th>Sex upon Outcome</th>\n",
       "      <th>Age upon Outcome</th>\n",
       "      <th>Breed</th>\n",
       "      <th>Color</th>\n",
       "    </tr>\n",
       "  </thead>\n",
       "  <tbody>\n",
       "    <tr>\n",
       "      <td>43</td>\n",
       "      <td>A736717</td>\n",
       "      <td>Max</td>\n",
       "      <td>10/21/2016 02:45:00 PM</td>\n",
       "      <td>10/21/2016 02:45:00 PM</td>\n",
       "      <td>10/16/2013</td>\n",
       "      <td>Return to Owner</td>\n",
       "      <td>NaN</td>\n",
       "      <td>Dog</td>\n",
       "      <td>Neutered Male</td>\n",
       "      <td>3 years</td>\n",
       "      <td>Pug Mix</td>\n",
       "      <td>Brown Brindle</td>\n",
       "    </tr>\n",
       "    <tr>\n",
       "      <td>289</td>\n",
       "      <td>A688196</td>\n",
       "      <td>Max</td>\n",
       "      <td>09/16/2014 12:20:00 PM</td>\n",
       "      <td>09/16/2014 12:20:00 PM</td>\n",
       "      <td>09/16/2005</td>\n",
       "      <td>Euthanasia</td>\n",
       "      <td>Suffering</td>\n",
       "      <td>Dog</td>\n",
       "      <td>Neutered Male</td>\n",
       "      <td>9 years</td>\n",
       "      <td>Jack Russell Terrier Mix</td>\n",
       "      <td>Chocolate/White</td>\n",
       "    </tr>\n",
       "    <tr>\n",
       "      <td>378</td>\n",
       "      <td>A579608</td>\n",
       "      <td>Max</td>\n",
       "      <td>07/21/2014 12:43:00 PM</td>\n",
       "      <td>07/21/2014 12:43:00 PM</td>\n",
       "      <td>06/09/2010</td>\n",
       "      <td>Return to Owner</td>\n",
       "      <td>NaN</td>\n",
       "      <td>Dog</td>\n",
       "      <td>Neutered Male</td>\n",
       "      <td>4 years</td>\n",
       "      <td>Labrador Retriever Mix</td>\n",
       "      <td>Black/White</td>\n",
       "    </tr>\n",
       "    <tr>\n",
       "      <td>924</td>\n",
       "      <td>A784016</td>\n",
       "      <td>Max</td>\n",
       "      <td>05/21/2019 03:13:00 PM</td>\n",
       "      <td>05/21/2019 03:13:00 PM</td>\n",
       "      <td>08/10/2018</td>\n",
       "      <td>Return to Owner</td>\n",
       "      <td>NaN</td>\n",
       "      <td>Dog</td>\n",
       "      <td>Intact Male</td>\n",
       "      <td>9 months</td>\n",
       "      <td>Staffordshire Mix</td>\n",
       "      <td>Brown Brindle/White</td>\n",
       "    </tr>\n",
       "    <tr>\n",
       "      <td>977</td>\n",
       "      <td>A681062</td>\n",
       "      <td>Max</td>\n",
       "      <td>06/12/2014 02:22:00 PM</td>\n",
       "      <td>06/12/2014 02:22:00 PM</td>\n",
       "      <td>06/11/2011</td>\n",
       "      <td>Return to Owner</td>\n",
       "      <td>NaN</td>\n",
       "      <td>Dog</td>\n",
       "      <td>Neutered Male</td>\n",
       "      <td>3 years</td>\n",
       "      <td>Jack Russell Terrier Mix</td>\n",
       "      <td>Brown/White</td>\n",
       "    </tr>\n",
       "  </tbody>\n",
       "</table>\n",
       "</div>"
      ],
      "text/plain": [
       "    Animal ID Name                DateTime               MonthYear  \\\n",
       "43    A736717  Max  10/21/2016 02:45:00 PM  10/21/2016 02:45:00 PM   \n",
       "289   A688196  Max  09/16/2014 12:20:00 PM  09/16/2014 12:20:00 PM   \n",
       "378   A579608  Max  07/21/2014 12:43:00 PM  07/21/2014 12:43:00 PM   \n",
       "924   A784016  Max  05/21/2019 03:13:00 PM  05/21/2019 03:13:00 PM   \n",
       "977   A681062  Max  06/12/2014 02:22:00 PM  06/12/2014 02:22:00 PM   \n",
       "\n",
       "    Date of Birth     Outcome Type Outcome Subtype Animal Type  \\\n",
       "43     10/16/2013  Return to Owner             NaN         Dog   \n",
       "289    09/16/2005       Euthanasia       Suffering         Dog   \n",
       "378    06/09/2010  Return to Owner             NaN         Dog   \n",
       "924    08/10/2018  Return to Owner             NaN         Dog   \n",
       "977    06/11/2011  Return to Owner             NaN         Dog   \n",
       "\n",
       "    Sex upon Outcome Age upon Outcome                     Breed  \\\n",
       "43     Neutered Male          3 years                   Pug Mix   \n",
       "289    Neutered Male          9 years  Jack Russell Terrier Mix   \n",
       "378    Neutered Male          4 years    Labrador Retriever Mix   \n",
       "924      Intact Male         9 months         Staffordshire Mix   \n",
       "977    Neutered Male          3 years  Jack Russell Terrier Mix   \n",
       "\n",
       "                   Color  \n",
       "43         Brown Brindle  \n",
       "289      Chocolate/White  \n",
       "378          Black/White  \n",
       "924  Brown Brindle/White  \n",
       "977          Brown/White  "
      ]
     },
     "execution_count": 47,
     "metadata": {},
     "output_type": "execute_result"
    }
   ],
   "source": [
    "shelter_data[shelter_data['Name'] == \"Max\"].head()"
   ]
  },
  {
   "cell_type": "code",
   "execution_count": 48,
   "metadata": {
    "slideshow": {
     "slide_type": "slide"
    }
   },
   "outputs": [
    {
     "data": {
      "text/html": [
       "<div>\n",
       "<style scoped>\n",
       "    .dataframe tbody tr th:only-of-type {\n",
       "        vertical-align: middle;\n",
       "    }\n",
       "\n",
       "    .dataframe tbody tr th {\n",
       "        vertical-align: top;\n",
       "    }\n",
       "\n",
       "    .dataframe thead th {\n",
       "        text-align: right;\n",
       "    }\n",
       "</style>\n",
       "<table border=\"1\" class=\"dataframe\">\n",
       "  <thead>\n",
       "    <tr style=\"text-align: right;\">\n",
       "      <th></th>\n",
       "      <th>Animal ID</th>\n",
       "      <th>Name</th>\n",
       "      <th>DateTime</th>\n",
       "      <th>MonthYear</th>\n",
       "      <th>Date of Birth</th>\n",
       "      <th>Outcome Type</th>\n",
       "      <th>Outcome Subtype</th>\n",
       "      <th>Animal Type</th>\n",
       "      <th>Sex upon Outcome</th>\n",
       "      <th>Age upon Outcome</th>\n",
       "      <th>Breed</th>\n",
       "      <th>Color</th>\n",
       "    </tr>\n",
       "  </thead>\n",
       "  <tbody>\n",
       "    <tr>\n",
       "      <td>43</td>\n",
       "      <td>A736717</td>\n",
       "      <td>Max</td>\n",
       "      <td>10/21/2016 02:45:00 PM</td>\n",
       "      <td>10/21/2016 02:45:00 PM</td>\n",
       "      <td>10/16/2013</td>\n",
       "      <td>Return to Owner</td>\n",
       "      <td>NaN</td>\n",
       "      <td>Dog</td>\n",
       "      <td>Neutered Male</td>\n",
       "      <td>3 years</td>\n",
       "      <td>Pug Mix</td>\n",
       "      <td>Brown Brindle</td>\n",
       "    </tr>\n",
       "    <tr>\n",
       "      <td>289</td>\n",
       "      <td>A688196</td>\n",
       "      <td>Max</td>\n",
       "      <td>09/16/2014 12:20:00 PM</td>\n",
       "      <td>09/16/2014 12:20:00 PM</td>\n",
       "      <td>09/16/2005</td>\n",
       "      <td>Euthanasia</td>\n",
       "      <td>Suffering</td>\n",
       "      <td>Dog</td>\n",
       "      <td>Neutered Male</td>\n",
       "      <td>9 years</td>\n",
       "      <td>Jack Russell Terrier Mix</td>\n",
       "      <td>Chocolate/White</td>\n",
       "    </tr>\n",
       "    <tr>\n",
       "      <td>378</td>\n",
       "      <td>A579608</td>\n",
       "      <td>Max</td>\n",
       "      <td>07/21/2014 12:43:00 PM</td>\n",
       "      <td>07/21/2014 12:43:00 PM</td>\n",
       "      <td>06/09/2010</td>\n",
       "      <td>Return to Owner</td>\n",
       "      <td>NaN</td>\n",
       "      <td>Dog</td>\n",
       "      <td>Neutered Male</td>\n",
       "      <td>4 years</td>\n",
       "      <td>Labrador Retriever Mix</td>\n",
       "      <td>Black/White</td>\n",
       "    </tr>\n",
       "    <tr>\n",
       "      <td>924</td>\n",
       "      <td>A784016</td>\n",
       "      <td>Max</td>\n",
       "      <td>05/21/2019 03:13:00 PM</td>\n",
       "      <td>05/21/2019 03:13:00 PM</td>\n",
       "      <td>08/10/2018</td>\n",
       "      <td>Return to Owner</td>\n",
       "      <td>NaN</td>\n",
       "      <td>Dog</td>\n",
       "      <td>Intact Male</td>\n",
       "      <td>9 months</td>\n",
       "      <td>Staffordshire Mix</td>\n",
       "      <td>Brown Brindle/White</td>\n",
       "    </tr>\n",
       "    <tr>\n",
       "      <td>977</td>\n",
       "      <td>A681062</td>\n",
       "      <td>Max</td>\n",
       "      <td>06/12/2014 02:22:00 PM</td>\n",
       "      <td>06/12/2014 02:22:00 PM</td>\n",
       "      <td>06/11/2011</td>\n",
       "      <td>Return to Owner</td>\n",
       "      <td>NaN</td>\n",
       "      <td>Dog</td>\n",
       "      <td>Neutered Male</td>\n",
       "      <td>3 years</td>\n",
       "      <td>Jack Russell Terrier Mix</td>\n",
       "      <td>Brown/White</td>\n",
       "    </tr>\n",
       "  </tbody>\n",
       "</table>\n",
       "</div>"
      ],
      "text/plain": [
       "    Animal ID Name                DateTime               MonthYear  \\\n",
       "43    A736717  Max  10/21/2016 02:45:00 PM  10/21/2016 02:45:00 PM   \n",
       "289   A688196  Max  09/16/2014 12:20:00 PM  09/16/2014 12:20:00 PM   \n",
       "378   A579608  Max  07/21/2014 12:43:00 PM  07/21/2014 12:43:00 PM   \n",
       "924   A784016  Max  05/21/2019 03:13:00 PM  05/21/2019 03:13:00 PM   \n",
       "977   A681062  Max  06/12/2014 02:22:00 PM  06/12/2014 02:22:00 PM   \n",
       "\n",
       "    Date of Birth     Outcome Type Outcome Subtype Animal Type  \\\n",
       "43     10/16/2013  Return to Owner             NaN         Dog   \n",
       "289    09/16/2005       Euthanasia       Suffering         Dog   \n",
       "378    06/09/2010  Return to Owner             NaN         Dog   \n",
       "924    08/10/2018  Return to Owner             NaN         Dog   \n",
       "977    06/11/2011  Return to Owner             NaN         Dog   \n",
       "\n",
       "    Sex upon Outcome Age upon Outcome                     Breed  \\\n",
       "43     Neutered Male          3 years                   Pug Mix   \n",
       "289    Neutered Male          9 years  Jack Russell Terrier Mix   \n",
       "378    Neutered Male          4 years    Labrador Retriever Mix   \n",
       "924      Intact Male         9 months         Staffordshire Mix   \n",
       "977    Neutered Male          3 years  Jack Russell Terrier Mix   \n",
       "\n",
       "                   Color  \n",
       "43         Brown Brindle  \n",
       "289      Chocolate/White  \n",
       "378          Black/White  \n",
       "924  Brown Brindle/White  \n",
       "977          Brown/White  "
      ]
     },
     "execution_count": 48,
     "metadata": {},
     "output_type": "execute_result"
    }
   ],
   "source": [
    "# With .query()\n",
    "\n",
    "max_data = shelter_data.query('Name == \"Max\"')\n",
    "max_data.head()"
   ]
  },
  {
   "cell_type": "markdown",
   "metadata": {
    "slideshow": {
     "slide_type": "slide"
    }
   },
   "source": [
    "## Goal 6: Transfering from sqlite to pandas"
   ]
  },
  {
   "cell_type": "markdown",
   "metadata": {},
   "source": [
    "`.read_sql_query()`"
   ]
  },
  {
   "cell_type": "code",
   "execution_count": 49,
   "metadata": {
    "slideshow": {
     "slide_type": "fragment"
    }
   },
   "outputs": [
    {
     "data": {
      "text/html": [
       "<div>\n",
       "<style scoped>\n",
       "    .dataframe tbody tr th:only-of-type {\n",
       "        vertical-align: middle;\n",
       "    }\n",
       "\n",
       "    .dataframe tbody tr th {\n",
       "        vertical-align: top;\n",
       "    }\n",
       "\n",
       "    .dataframe thead th {\n",
       "        text-align: right;\n",
       "    }\n",
       "</style>\n",
       "<table border=\"1\" class=\"dataframe\">\n",
       "  <thead>\n",
       "    <tr style=\"text-align: right;\">\n",
       "      <th></th>\n",
       "      <th>index</th>\n",
       "      <th>id</th>\n",
       "      <th>name</th>\n",
       "      <th>city</th>\n",
       "      <th>country</th>\n",
       "      <th>code</th>\n",
       "      <th>icao</th>\n",
       "      <th>latitude</th>\n",
       "      <th>longitude</th>\n",
       "      <th>altitude</th>\n",
       "      <th>offset</th>\n",
       "      <th>dst</th>\n",
       "      <th>timezone</th>\n",
       "    </tr>\n",
       "  </thead>\n",
       "  <tbody>\n",
       "    <tr>\n",
       "      <td>0</td>\n",
       "      <td>0</td>\n",
       "      <td>1</td>\n",
       "      <td>Goroka</td>\n",
       "      <td>Goroka</td>\n",
       "      <td>Papua New Guinea</td>\n",
       "      <td>GKA</td>\n",
       "      <td>AYGA</td>\n",
       "      <td>-6.081689</td>\n",
       "      <td>145.391881</td>\n",
       "      <td>5282</td>\n",
       "      <td>10</td>\n",
       "      <td>U</td>\n",
       "      <td>Pacific/Port_Moresby</td>\n",
       "    </tr>\n",
       "    <tr>\n",
       "      <td>1</td>\n",
       "      <td>1</td>\n",
       "      <td>2</td>\n",
       "      <td>Madang</td>\n",
       "      <td>Madang</td>\n",
       "      <td>Papua New Guinea</td>\n",
       "      <td>MAG</td>\n",
       "      <td>AYMD</td>\n",
       "      <td>-5.207083</td>\n",
       "      <td>145.7887</td>\n",
       "      <td>20</td>\n",
       "      <td>10</td>\n",
       "      <td>U</td>\n",
       "      <td>Pacific/Port_Moresby</td>\n",
       "    </tr>\n",
       "    <tr>\n",
       "      <td>2</td>\n",
       "      <td>2</td>\n",
       "      <td>3</td>\n",
       "      <td>Mount Hagen</td>\n",
       "      <td>Mount Hagen</td>\n",
       "      <td>Papua New Guinea</td>\n",
       "      <td>HGU</td>\n",
       "      <td>AYMH</td>\n",
       "      <td>-5.826789</td>\n",
       "      <td>144.295861</td>\n",
       "      <td>5388</td>\n",
       "      <td>10</td>\n",
       "      <td>U</td>\n",
       "      <td>Pacific/Port_Moresby</td>\n",
       "    </tr>\n",
       "    <tr>\n",
       "      <td>3</td>\n",
       "      <td>3</td>\n",
       "      <td>4</td>\n",
       "      <td>Nadzab</td>\n",
       "      <td>Nadzab</td>\n",
       "      <td>Papua New Guinea</td>\n",
       "      <td>LAE</td>\n",
       "      <td>AYNZ</td>\n",
       "      <td>-6.569828</td>\n",
       "      <td>146.726242</td>\n",
       "      <td>239</td>\n",
       "      <td>10</td>\n",
       "      <td>U</td>\n",
       "      <td>Pacific/Port_Moresby</td>\n",
       "    </tr>\n",
       "    <tr>\n",
       "      <td>4</td>\n",
       "      <td>4</td>\n",
       "      <td>5</td>\n",
       "      <td>Port Moresby Jacksons Intl</td>\n",
       "      <td>Port Moresby</td>\n",
       "      <td>Papua New Guinea</td>\n",
       "      <td>POM</td>\n",
       "      <td>AYPY</td>\n",
       "      <td>-9.443383</td>\n",
       "      <td>147.22005</td>\n",
       "      <td>146</td>\n",
       "      <td>10</td>\n",
       "      <td>U</td>\n",
       "      <td>Pacific/Port_Moresby</td>\n",
       "    </tr>\n",
       "    <tr>\n",
       "      <td>5</td>\n",
       "      <td>5</td>\n",
       "      <td>6</td>\n",
       "      <td>Wewak Intl</td>\n",
       "      <td>Wewak</td>\n",
       "      <td>Papua New Guinea</td>\n",
       "      <td>WWK</td>\n",
       "      <td>AYWK</td>\n",
       "      <td>-3.583828</td>\n",
       "      <td>143.669186</td>\n",
       "      <td>19</td>\n",
       "      <td>10</td>\n",
       "      <td>U</td>\n",
       "      <td>Pacific/Port_Moresby</td>\n",
       "    </tr>\n",
       "    <tr>\n",
       "      <td>6</td>\n",
       "      <td>6</td>\n",
       "      <td>7</td>\n",
       "      <td>Narsarsuaq</td>\n",
       "      <td>Narssarssuaq</td>\n",
       "      <td>Greenland</td>\n",
       "      <td>UAK</td>\n",
       "      <td>BGBW</td>\n",
       "      <td>61.160517</td>\n",
       "      <td>-45.425978</td>\n",
       "      <td>112</td>\n",
       "      <td>-3</td>\n",
       "      <td>E</td>\n",
       "      <td>America/Godthab</td>\n",
       "    </tr>\n",
       "    <tr>\n",
       "      <td>7</td>\n",
       "      <td>7</td>\n",
       "      <td>8</td>\n",
       "      <td>Nuuk</td>\n",
       "      <td>Godthaab</td>\n",
       "      <td>Greenland</td>\n",
       "      <td>GOH</td>\n",
       "      <td>BGGH</td>\n",
       "      <td>64.190922</td>\n",
       "      <td>-51.678064</td>\n",
       "      <td>283</td>\n",
       "      <td>-3</td>\n",
       "      <td>E</td>\n",
       "      <td>America/Godthab</td>\n",
       "    </tr>\n",
       "    <tr>\n",
       "      <td>8</td>\n",
       "      <td>8</td>\n",
       "      <td>9</td>\n",
       "      <td>Sondre Stromfjord</td>\n",
       "      <td>Sondrestrom</td>\n",
       "      <td>Greenland</td>\n",
       "      <td>SFJ</td>\n",
       "      <td>BGSF</td>\n",
       "      <td>67.016969</td>\n",
       "      <td>-50.689325</td>\n",
       "      <td>165</td>\n",
       "      <td>-3</td>\n",
       "      <td>E</td>\n",
       "      <td>America/Godthab</td>\n",
       "    </tr>\n",
       "    <tr>\n",
       "      <td>9</td>\n",
       "      <td>9</td>\n",
       "      <td>10</td>\n",
       "      <td>Thule Air Base</td>\n",
       "      <td>Thule</td>\n",
       "      <td>Greenland</td>\n",
       "      <td>THU</td>\n",
       "      <td>BGTL</td>\n",
       "      <td>76.531203</td>\n",
       "      <td>-68.703161</td>\n",
       "      <td>251</td>\n",
       "      <td>-4</td>\n",
       "      <td>E</td>\n",
       "      <td>America/Thule</td>\n",
       "    </tr>\n",
       "    <tr>\n",
       "      <td>10</td>\n",
       "      <td>10</td>\n",
       "      <td>11</td>\n",
       "      <td>Akureyri</td>\n",
       "      <td>Akureyri</td>\n",
       "      <td>Iceland</td>\n",
       "      <td>AEY</td>\n",
       "      <td>BIAR</td>\n",
       "      <td>65.659994</td>\n",
       "      <td>-18.072703</td>\n",
       "      <td>6</td>\n",
       "      <td>0</td>\n",
       "      <td>N</td>\n",
       "      <td>Atlantic/Reykjavik</td>\n",
       "    </tr>\n",
       "    <tr>\n",
       "      <td>11</td>\n",
       "      <td>11</td>\n",
       "      <td>12</td>\n",
       "      <td>Egilsstadir</td>\n",
       "      <td>Egilsstadir</td>\n",
       "      <td>Iceland</td>\n",
       "      <td>EGS</td>\n",
       "      <td>BIEG</td>\n",
       "      <td>65.283333</td>\n",
       "      <td>-14.401389</td>\n",
       "      <td>76</td>\n",
       "      <td>0</td>\n",
       "      <td>N</td>\n",
       "      <td>Atlantic/Reykjavik</td>\n",
       "    </tr>\n",
       "    <tr>\n",
       "      <td>12</td>\n",
       "      <td>12</td>\n",
       "      <td>13</td>\n",
       "      <td>Hornafjordur</td>\n",
       "      <td>Hofn</td>\n",
       "      <td>Iceland</td>\n",
       "      <td>HFN</td>\n",
       "      <td>BIHN</td>\n",
       "      <td>64.295556</td>\n",
       "      <td>-15.227222</td>\n",
       "      <td>24</td>\n",
       "      <td>0</td>\n",
       "      <td>N</td>\n",
       "      <td>Atlantic/Reykjavik</td>\n",
       "    </tr>\n",
       "    <tr>\n",
       "      <td>13</td>\n",
       "      <td>13</td>\n",
       "      <td>14</td>\n",
       "      <td>Husavik</td>\n",
       "      <td>Husavik</td>\n",
       "      <td>Iceland</td>\n",
       "      <td>HZK</td>\n",
       "      <td>BIHU</td>\n",
       "      <td>65.952328</td>\n",
       "      <td>-17.425978</td>\n",
       "      <td>48</td>\n",
       "      <td>0</td>\n",
       "      <td>N</td>\n",
       "      <td>Atlantic/Reykjavik</td>\n",
       "    </tr>\n",
       "    <tr>\n",
       "      <td>14</td>\n",
       "      <td>14</td>\n",
       "      <td>15</td>\n",
       "      <td>Isafjordur</td>\n",
       "      <td>Isafjordur</td>\n",
       "      <td>Iceland</td>\n",
       "      <td>IFJ</td>\n",
       "      <td>BIIS</td>\n",
       "      <td>66.058056</td>\n",
       "      <td>-23.135278</td>\n",
       "      <td>8</td>\n",
       "      <td>0</td>\n",
       "      <td>N</td>\n",
       "      <td>Atlantic/Reykjavik</td>\n",
       "    </tr>\n",
       "    <tr>\n",
       "      <td>15</td>\n",
       "      <td>15</td>\n",
       "      <td>16</td>\n",
       "      <td>Keflavik International Airport</td>\n",
       "      <td>Keflavik</td>\n",
       "      <td>Iceland</td>\n",
       "      <td>KEF</td>\n",
       "      <td>BIKF</td>\n",
       "      <td>63.985</td>\n",
       "      <td>-22.605556</td>\n",
       "      <td>171</td>\n",
       "      <td>0</td>\n",
       "      <td>N</td>\n",
       "      <td>Atlantic/Reykjavik</td>\n",
       "    </tr>\n",
       "    <tr>\n",
       "      <td>16</td>\n",
       "      <td>16</td>\n",
       "      <td>17</td>\n",
       "      <td>Patreksfjordur</td>\n",
       "      <td>Patreksfjordur</td>\n",
       "      <td>Iceland</td>\n",
       "      <td>PFJ</td>\n",
       "      <td>BIPA</td>\n",
       "      <td>65.555833</td>\n",
       "      <td>-23.965</td>\n",
       "      <td>11</td>\n",
       "      <td>0</td>\n",
       "      <td>N</td>\n",
       "      <td>Atlantic/Reykjavik</td>\n",
       "    </tr>\n",
       "    <tr>\n",
       "      <td>17</td>\n",
       "      <td>17</td>\n",
       "      <td>18</td>\n",
       "      <td>Reykjavik</td>\n",
       "      <td>Reykjavik</td>\n",
       "      <td>Iceland</td>\n",
       "      <td>RKV</td>\n",
       "      <td>BIRK</td>\n",
       "      <td>64.13</td>\n",
       "      <td>-21.940556</td>\n",
       "      <td>48</td>\n",
       "      <td>0</td>\n",
       "      <td>N</td>\n",
       "      <td>Atlantic/Reykjavik</td>\n",
       "    </tr>\n",
       "    <tr>\n",
       "      <td>18</td>\n",
       "      <td>18</td>\n",
       "      <td>19</td>\n",
       "      <td>Siglufjordur</td>\n",
       "      <td>Siglufjordur</td>\n",
       "      <td>Iceland</td>\n",
       "      <td>SIJ</td>\n",
       "      <td>BISI</td>\n",
       "      <td>66.133333</td>\n",
       "      <td>-18.916667</td>\n",
       "      <td>10</td>\n",
       "      <td>0</td>\n",
       "      <td>N</td>\n",
       "      <td>Atlantic/Reykjavik</td>\n",
       "    </tr>\n",
       "    <tr>\n",
       "      <td>19</td>\n",
       "      <td>19</td>\n",
       "      <td>20</td>\n",
       "      <td>Vestmannaeyjar</td>\n",
       "      <td>Vestmannaeyjar</td>\n",
       "      <td>Iceland</td>\n",
       "      <td>VEY</td>\n",
       "      <td>BIVM</td>\n",
       "      <td>63.424303</td>\n",
       "      <td>-20.278875</td>\n",
       "      <td>326</td>\n",
       "      <td>0</td>\n",
       "      <td>N</td>\n",
       "      <td>Atlantic/Reykjavik</td>\n",
       "    </tr>\n",
       "    <tr>\n",
       "      <td>20</td>\n",
       "      <td>20</td>\n",
       "      <td>21</td>\n",
       "      <td>Sault Ste Marie</td>\n",
       "      <td>Sault Sainte Marie</td>\n",
       "      <td>Canada</td>\n",
       "      <td>YAM</td>\n",
       "      <td>CYAM</td>\n",
       "      <td>46.485001</td>\n",
       "      <td>-84.509445</td>\n",
       "      <td>630</td>\n",
       "      <td>-5</td>\n",
       "      <td>A</td>\n",
       "      <td>America/Toronto</td>\n",
       "    </tr>\n",
       "    <tr>\n",
       "      <td>21</td>\n",
       "      <td>21</td>\n",
       "      <td>22</td>\n",
       "      <td>Winnipeg St Andrews</td>\n",
       "      <td>Winnipeg</td>\n",
       "      <td>Canada</td>\n",
       "      <td>YAV</td>\n",
       "      <td>CYAV</td>\n",
       "      <td>50.056389</td>\n",
       "      <td>-97.0325</td>\n",
       "      <td>760</td>\n",
       "      <td>-6</td>\n",
       "      <td>A</td>\n",
       "      <td>America/Winnipeg</td>\n",
       "    </tr>\n",
       "    <tr>\n",
       "      <td>22</td>\n",
       "      <td>22</td>\n",
       "      <td>23</td>\n",
       "      <td>Shearwater</td>\n",
       "      <td>Halifax</td>\n",
       "      <td>Canada</td>\n",
       "      <td>YAW</td>\n",
       "      <td>CYAW</td>\n",
       "      <td>44.639721</td>\n",
       "      <td>-63.499444</td>\n",
       "      <td>167</td>\n",
       "      <td>-4</td>\n",
       "      <td>A</td>\n",
       "      <td>America/Halifax</td>\n",
       "    </tr>\n",
       "    <tr>\n",
       "      <td>23</td>\n",
       "      <td>23</td>\n",
       "      <td>24</td>\n",
       "      <td>St Anthony</td>\n",
       "      <td>St. Anthony</td>\n",
       "      <td>Canada</td>\n",
       "      <td>YAY</td>\n",
       "      <td>CYAY</td>\n",
       "      <td>51.391944</td>\n",
       "      <td>-56.083056</td>\n",
       "      <td>108</td>\n",
       "      <td>-3.5</td>\n",
       "      <td>A</td>\n",
       "      <td>America/St_Johns</td>\n",
       "    </tr>\n",
       "    <tr>\n",
       "      <td>24</td>\n",
       "      <td>24</td>\n",
       "      <td>25</td>\n",
       "      <td>Tofino</td>\n",
       "      <td>Tofino</td>\n",
       "      <td>Canada</td>\n",
       "      <td>YAZ</td>\n",
       "      <td>CYAZ</td>\n",
       "      <td>49.082222</td>\n",
       "      <td>-125.7725</td>\n",
       "      <td>80</td>\n",
       "      <td>-8</td>\n",
       "      <td>A</td>\n",
       "      <td>America/Vancouver</td>\n",
       "    </tr>\n",
       "    <tr>\n",
       "      <td>25</td>\n",
       "      <td>25</td>\n",
       "      <td>26</td>\n",
       "      <td>Kugaaruk</td>\n",
       "      <td>Pelly Bay</td>\n",
       "      <td>Canada</td>\n",
       "      <td>YBB</td>\n",
       "      <td>CYBB</td>\n",
       "      <td>68.534444</td>\n",
       "      <td>-89.808056</td>\n",
       "      <td>56</td>\n",
       "      <td>-7</td>\n",
       "      <td>A</td>\n",
       "      <td>America/Edmonton</td>\n",
       "    </tr>\n",
       "    <tr>\n",
       "      <td>26</td>\n",
       "      <td>26</td>\n",
       "      <td>27</td>\n",
       "      <td>Baie Comeau</td>\n",
       "      <td>Baie Comeau</td>\n",
       "      <td>Canada</td>\n",
       "      <td>YBC</td>\n",
       "      <td>CYBC</td>\n",
       "      <td>49.1325</td>\n",
       "      <td>-68.204444</td>\n",
       "      <td>71</td>\n",
       "      <td>-5</td>\n",
       "      <td>A</td>\n",
       "      <td>America/Toronto</td>\n",
       "    </tr>\n",
       "    <tr>\n",
       "      <td>27</td>\n",
       "      <td>27</td>\n",
       "      <td>28</td>\n",
       "      <td>Bagotville</td>\n",
       "      <td>Bagotville</td>\n",
       "      <td>Canada</td>\n",
       "      <td>YBG</td>\n",
       "      <td>CYBG</td>\n",
       "      <td>48.330555</td>\n",
       "      <td>-70.996391</td>\n",
       "      <td>522</td>\n",
       "      <td>-5</td>\n",
       "      <td>A</td>\n",
       "      <td>America/Toronto</td>\n",
       "    </tr>\n",
       "    <tr>\n",
       "      <td>28</td>\n",
       "      <td>28</td>\n",
       "      <td>29</td>\n",
       "      <td>Baker Lake</td>\n",
       "      <td>Baker Lake</td>\n",
       "      <td>Canada</td>\n",
       "      <td>YBK</td>\n",
       "      <td>CYBK</td>\n",
       "      <td>64.298889</td>\n",
       "      <td>-96.077778</td>\n",
       "      <td>59</td>\n",
       "      <td>-6</td>\n",
       "      <td>A</td>\n",
       "      <td>America/Winnipeg</td>\n",
       "    </tr>\n",
       "    <tr>\n",
       "      <td>29</td>\n",
       "      <td>29</td>\n",
       "      <td>30</td>\n",
       "      <td>Campbell River</td>\n",
       "      <td>Campbell River</td>\n",
       "      <td>Canada</td>\n",
       "      <td>YBL</td>\n",
       "      <td>CYBL</td>\n",
       "      <td>49.950832</td>\n",
       "      <td>-125.270833</td>\n",
       "      <td>346</td>\n",
       "      <td>-8</td>\n",
       "      <td>A</td>\n",
       "      <td>America/Vancouver</td>\n",
       "    </tr>\n",
       "    <tr>\n",
       "      <td>30</td>\n",
       "      <td>30</td>\n",
       "      <td>31</td>\n",
       "      <td>Brandon Muni</td>\n",
       "      <td>Brandon</td>\n",
       "      <td>Canada</td>\n",
       "      <td>YBR</td>\n",
       "      <td>CYBR</td>\n",
       "      <td>49.91</td>\n",
       "      <td>-99.951944</td>\n",
       "      <td>1343</td>\n",
       "      <td>-6</td>\n",
       "      <td>A</td>\n",
       "      <td>America/Winnipeg</td>\n",
       "    </tr>\n",
       "    <tr>\n",
       "      <td>31</td>\n",
       "      <td>31</td>\n",
       "      <td>32</td>\n",
       "      <td>Cambridge Bay</td>\n",
       "      <td>Cambridge Bay</td>\n",
       "      <td>Canada</td>\n",
       "      <td>YCB</td>\n",
       "      <td>CYCB</td>\n",
       "      <td>69.108055</td>\n",
       "      <td>-105.138333</td>\n",
       "      <td>90</td>\n",
       "      <td>-7</td>\n",
       "      <td>A</td>\n",
       "      <td>America/Edmonton</td>\n",
       "    </tr>\n",
       "    <tr>\n",
       "      <td>32</td>\n",
       "      <td>32</td>\n",
       "      <td>33</td>\n",
       "      <td>Nanaimo</td>\n",
       "      <td>Nanaimo</td>\n",
       "      <td>Canada</td>\n",
       "      <td>YCD</td>\n",
       "      <td>CYCD</td>\n",
       "      <td>49.052333</td>\n",
       "      <td>-123.870167</td>\n",
       "      <td>93</td>\n",
       "      <td>-8</td>\n",
       "      <td>A</td>\n",
       "      <td>America/Vancouver</td>\n",
       "    </tr>\n",
       "    <tr>\n",
       "      <td>33</td>\n",
       "      <td>33</td>\n",
       "      <td>34</td>\n",
       "      <td>Castlegar</td>\n",
       "      <td>Castlegar</td>\n",
       "      <td>Canada</td>\n",
       "      <td>YCG</td>\n",
       "      <td>CYCG</td>\n",
       "      <td>49.296389</td>\n",
       "      <td>-117.6325</td>\n",
       "      <td>1624</td>\n",
       "      <td>-8</td>\n",
       "      <td>A</td>\n",
       "      <td>America/Vancouver</td>\n",
       "    </tr>\n",
       "    <tr>\n",
       "      <td>34</td>\n",
       "      <td>34</td>\n",
       "      <td>35</td>\n",
       "      <td>Miramichi</td>\n",
       "      <td>Chatham</td>\n",
       "      <td>Canada</td>\n",
       "      <td>YCH</td>\n",
       "      <td>CYCH</td>\n",
       "      <td>47.007778</td>\n",
       "      <td>-65.449167</td>\n",
       "      <td>108</td>\n",
       "      <td>-4</td>\n",
       "      <td>A</td>\n",
       "      <td>America/Halifax</td>\n",
       "    </tr>\n",
       "    <tr>\n",
       "      <td>35</td>\n",
       "      <td>35</td>\n",
       "      <td>36</td>\n",
       "      <td>Charlo</td>\n",
       "      <td>Charlo</td>\n",
       "      <td>Canada</td>\n",
       "      <td>YCL</td>\n",
       "      <td>CYCL</td>\n",
       "      <td>47.990833</td>\n",
       "      <td>-66.330278</td>\n",
       "      <td>132</td>\n",
       "      <td>-4</td>\n",
       "      <td>A</td>\n",
       "      <td>America/Halifax</td>\n",
       "    </tr>\n",
       "    <tr>\n",
       "      <td>36</td>\n",
       "      <td>36</td>\n",
       "      <td>37</td>\n",
       "      <td>Kugluktuk</td>\n",
       "      <td>Coppermine</td>\n",
       "      <td>Canada</td>\n",
       "      <td>YCO</td>\n",
       "      <td>CYCO</td>\n",
       "      <td>67.816667</td>\n",
       "      <td>-115.143889</td>\n",
       "      <td>74</td>\n",
       "      <td>-7</td>\n",
       "      <td>A</td>\n",
       "      <td>America/Edmonton</td>\n",
       "    </tr>\n",
       "    <tr>\n",
       "      <td>37</td>\n",
       "      <td>37</td>\n",
       "      <td>38</td>\n",
       "      <td>Coronation</td>\n",
       "      <td>Coronation</td>\n",
       "      <td>Canada</td>\n",
       "      <td>YCT</td>\n",
       "      <td>CYCT</td>\n",
       "      <td>52.075001</td>\n",
       "      <td>-111.445278</td>\n",
       "      <td>2595</td>\n",
       "      <td>-7</td>\n",
       "      <td>A</td>\n",
       "      <td>America/Edmonton</td>\n",
       "    </tr>\n",
       "    <tr>\n",
       "      <td>38</td>\n",
       "      <td>38</td>\n",
       "      <td>39</td>\n",
       "      <td>Chilliwack</td>\n",
       "      <td>Chilliwack</td>\n",
       "      <td>Canada</td>\n",
       "      <td>YCW</td>\n",
       "      <td>CYCW</td>\n",
       "      <td>49.152779</td>\n",
       "      <td>-121.93889</td>\n",
       "      <td>32</td>\n",
       "      <td>-8</td>\n",
       "      <td>A</td>\n",
       "      <td>America/Vancouver</td>\n",
       "    </tr>\n",
       "    <tr>\n",
       "      <td>39</td>\n",
       "      <td>39</td>\n",
       "      <td>40</td>\n",
       "      <td>Clyde River</td>\n",
       "      <td>Clyde River</td>\n",
       "      <td>Canada</td>\n",
       "      <td>YCY</td>\n",
       "      <td>CYCY</td>\n",
       "      <td>70.486111</td>\n",
       "      <td>-68.516667</td>\n",
       "      <td>87</td>\n",
       "      <td>-5</td>\n",
       "      <td>A</td>\n",
       "      <td>America/Toronto</td>\n",
       "    </tr>\n",
       "    <tr>\n",
       "      <td>40</td>\n",
       "      <td>40</td>\n",
       "      <td>41</td>\n",
       "      <td>Fairmont Hot Springs</td>\n",
       "      <td>Coral Harbour</td>\n",
       "      <td>Canada</td>\n",
       "      <td>YZS</td>\n",
       "      <td>CYCZ</td>\n",
       "      <td>64.193333</td>\n",
       "      <td>-83.359444</td>\n",
       "      <td>2661</td>\n",
       "      <td>-5</td>\n",
       "      <td>A</td>\n",
       "      <td>America/Coral_Harbour</td>\n",
       "    </tr>\n",
       "    <tr>\n",
       "      <td>41</td>\n",
       "      <td>41</td>\n",
       "      <td>42</td>\n",
       "      <td>Dawson City</td>\n",
       "      <td>Dawson</td>\n",
       "      <td>Canada</td>\n",
       "      <td>YDA</td>\n",
       "      <td>CYDA</td>\n",
       "      <td>64.043056</td>\n",
       "      <td>-139.127778</td>\n",
       "      <td>1215</td>\n",
       "      <td>-8</td>\n",
       "      <td>A</td>\n",
       "      <td>America/Vancouver</td>\n",
       "    </tr>\n",
       "    <tr>\n",
       "      <td>42</td>\n",
       "      <td>42</td>\n",
       "      <td>43</td>\n",
       "      <td>Burwash</td>\n",
       "      <td>Burwash</td>\n",
       "      <td>Canada</td>\n",
       "      <td>YDB</td>\n",
       "      <td>CYDB</td>\n",
       "      <td>61.371111</td>\n",
       "      <td>-139.040556</td>\n",
       "      <td>2647</td>\n",
       "      <td>-8</td>\n",
       "      <td>A</td>\n",
       "      <td>America/Vancouver</td>\n",
       "    </tr>\n",
       "    <tr>\n",
       "      <td>43</td>\n",
       "      <td>43</td>\n",
       "      <td>44</td>\n",
       "      <td>Princeton</td>\n",
       "      <td>Princeton</td>\n",
       "      <td>Canada</td>\n",
       "      <td>YDC</td>\n",
       "      <td>CYDC</td>\n",
       "      <td>49.468056</td>\n",
       "      <td>-120.511389</td>\n",
       "      <td>2298</td>\n",
       "      <td>-8</td>\n",
       "      <td>A</td>\n",
       "      <td>America/Vancouver</td>\n",
       "    </tr>\n",
       "    <tr>\n",
       "      <td>44</td>\n",
       "      <td>44</td>\n",
       "      <td>45</td>\n",
       "      <td>Deer Lake</td>\n",
       "      <td>Deer Lake</td>\n",
       "      <td>Canada</td>\n",
       "      <td>YDF</td>\n",
       "      <td>CYDF</td>\n",
       "      <td>49.210833</td>\n",
       "      <td>-57.391388</td>\n",
       "      <td>72</td>\n",
       "      <td>-3.5</td>\n",
       "      <td>A</td>\n",
       "      <td>America/St_Johns</td>\n",
       "    </tr>\n",
       "    <tr>\n",
       "      <td>45</td>\n",
       "      <td>45</td>\n",
       "      <td>46</td>\n",
       "      <td>Dease Lake</td>\n",
       "      <td>Dease Lake</td>\n",
       "      <td>Canada</td>\n",
       "      <td>YDL</td>\n",
       "      <td>CYDL</td>\n",
       "      <td>58.422222</td>\n",
       "      <td>-130.032222</td>\n",
       "      <td>2600</td>\n",
       "      <td>-8</td>\n",
       "      <td>A</td>\n",
       "      <td>America/Vancouver</td>\n",
       "    </tr>\n",
       "    <tr>\n",
       "      <td>46</td>\n",
       "      <td>46</td>\n",
       "      <td>47</td>\n",
       "      <td>Dauphin Barker</td>\n",
       "      <td>Dauphin</td>\n",
       "      <td>Canada</td>\n",
       "      <td>YDN</td>\n",
       "      <td>CYDN</td>\n",
       "      <td>51.100834</td>\n",
       "      <td>-100.0525</td>\n",
       "      <td>999</td>\n",
       "      <td>-6</td>\n",
       "      <td>A</td>\n",
       "      <td>America/Winnipeg</td>\n",
       "    </tr>\n",
       "    <tr>\n",
       "      <td>47</td>\n",
       "      <td>47</td>\n",
       "      <td>48</td>\n",
       "      <td>Dawson Creek</td>\n",
       "      <td>Dawson Creek</td>\n",
       "      <td>Canada</td>\n",
       "      <td>YDQ</td>\n",
       "      <td>CYDQ</td>\n",
       "      <td>55.742333</td>\n",
       "      <td>-120.183</td>\n",
       "      <td>2148</td>\n",
       "      <td>-7</td>\n",
       "      <td>A</td>\n",
       "      <td>America/Dawson_Creek</td>\n",
       "    </tr>\n",
       "    <tr>\n",
       "      <td>48</td>\n",
       "      <td>48</td>\n",
       "      <td>49</td>\n",
       "      <td>Edmonton Intl</td>\n",
       "      <td>Edmonton</td>\n",
       "      <td>Canada</td>\n",
       "      <td>YEG</td>\n",
       "      <td>CYEG</td>\n",
       "      <td>53.309723</td>\n",
       "      <td>-113.579722</td>\n",
       "      <td>2373</td>\n",
       "      <td>-7</td>\n",
       "      <td>A</td>\n",
       "      <td>America/Edmonton</td>\n",
       "    </tr>\n",
       "    <tr>\n",
       "      <td>49</td>\n",
       "      <td>49</td>\n",
       "      <td>50</td>\n",
       "      <td>Arviat</td>\n",
       "      <td>Eskimo Point</td>\n",
       "      <td>Canada</td>\n",
       "      <td>YEK</td>\n",
       "      <td>CYEK</td>\n",
       "      <td>61.094166</td>\n",
       "      <td>-94.070833</td>\n",
       "      <td>32</td>\n",
       "      <td>-6</td>\n",
       "      <td>A</td>\n",
       "      <td>America/Winnipeg</td>\n",
       "    </tr>\n",
       "  </tbody>\n",
       "</table>\n",
       "</div>"
      ],
      "text/plain": [
       "    index  id                            name                city  \\\n",
       "0       0   1                          Goroka              Goroka   \n",
       "1       1   2                          Madang              Madang   \n",
       "2       2   3                     Mount Hagen         Mount Hagen   \n",
       "3       3   4                          Nadzab              Nadzab   \n",
       "4       4   5      Port Moresby Jacksons Intl        Port Moresby   \n",
       "5       5   6                      Wewak Intl               Wewak   \n",
       "6       6   7                      Narsarsuaq        Narssarssuaq   \n",
       "7       7   8                            Nuuk            Godthaab   \n",
       "8       8   9               Sondre Stromfjord         Sondrestrom   \n",
       "9       9  10                  Thule Air Base               Thule   \n",
       "10     10  11                        Akureyri            Akureyri   \n",
       "11     11  12                     Egilsstadir         Egilsstadir   \n",
       "12     12  13                    Hornafjordur                Hofn   \n",
       "13     13  14                         Husavik             Husavik   \n",
       "14     14  15                      Isafjordur          Isafjordur   \n",
       "15     15  16  Keflavik International Airport            Keflavik   \n",
       "16     16  17                  Patreksfjordur      Patreksfjordur   \n",
       "17     17  18                       Reykjavik           Reykjavik   \n",
       "18     18  19                    Siglufjordur        Siglufjordur   \n",
       "19     19  20                  Vestmannaeyjar      Vestmannaeyjar   \n",
       "20     20  21                 Sault Ste Marie  Sault Sainte Marie   \n",
       "21     21  22             Winnipeg St Andrews            Winnipeg   \n",
       "22     22  23                      Shearwater             Halifax   \n",
       "23     23  24                      St Anthony         St. Anthony   \n",
       "24     24  25                          Tofino              Tofino   \n",
       "25     25  26                        Kugaaruk           Pelly Bay   \n",
       "26     26  27                     Baie Comeau         Baie Comeau   \n",
       "27     27  28                      Bagotville          Bagotville   \n",
       "28     28  29                      Baker Lake          Baker Lake   \n",
       "29     29  30                  Campbell River      Campbell River   \n",
       "30     30  31                    Brandon Muni             Brandon   \n",
       "31     31  32                   Cambridge Bay       Cambridge Bay   \n",
       "32     32  33                         Nanaimo             Nanaimo   \n",
       "33     33  34                       Castlegar           Castlegar   \n",
       "34     34  35                       Miramichi             Chatham   \n",
       "35     35  36                          Charlo              Charlo   \n",
       "36     36  37                       Kugluktuk          Coppermine   \n",
       "37     37  38                      Coronation          Coronation   \n",
       "38     38  39                      Chilliwack          Chilliwack   \n",
       "39     39  40                     Clyde River         Clyde River   \n",
       "40     40  41            Fairmont Hot Springs       Coral Harbour   \n",
       "41     41  42                     Dawson City              Dawson   \n",
       "42     42  43                         Burwash             Burwash   \n",
       "43     43  44                       Princeton           Princeton   \n",
       "44     44  45                       Deer Lake           Deer Lake   \n",
       "45     45  46                      Dease Lake          Dease Lake   \n",
       "46     46  47                  Dauphin Barker             Dauphin   \n",
       "47     47  48                    Dawson Creek        Dawson Creek   \n",
       "48     48  49                   Edmonton Intl            Edmonton   \n",
       "49     49  50                          Arviat        Eskimo Point   \n",
       "\n",
       "             country code  icao   latitude    longitude altitude offset dst  \\\n",
       "0   Papua New Guinea  GKA  AYGA  -6.081689   145.391881     5282     10   U   \n",
       "1   Papua New Guinea  MAG  AYMD  -5.207083     145.7887       20     10   U   \n",
       "2   Papua New Guinea  HGU  AYMH  -5.826789   144.295861     5388     10   U   \n",
       "3   Papua New Guinea  LAE  AYNZ  -6.569828   146.726242      239     10   U   \n",
       "4   Papua New Guinea  POM  AYPY  -9.443383    147.22005      146     10   U   \n",
       "5   Papua New Guinea  WWK  AYWK  -3.583828   143.669186       19     10   U   \n",
       "6          Greenland  UAK  BGBW  61.160517   -45.425978      112     -3   E   \n",
       "7          Greenland  GOH  BGGH  64.190922   -51.678064      283     -3   E   \n",
       "8          Greenland  SFJ  BGSF  67.016969   -50.689325      165     -3   E   \n",
       "9          Greenland  THU  BGTL  76.531203   -68.703161      251     -4   E   \n",
       "10           Iceland  AEY  BIAR  65.659994   -18.072703        6      0   N   \n",
       "11           Iceland  EGS  BIEG  65.283333   -14.401389       76      0   N   \n",
       "12           Iceland  HFN  BIHN  64.295556   -15.227222       24      0   N   \n",
       "13           Iceland  HZK  BIHU  65.952328   -17.425978       48      0   N   \n",
       "14           Iceland  IFJ  BIIS  66.058056   -23.135278        8      0   N   \n",
       "15           Iceland  KEF  BIKF     63.985   -22.605556      171      0   N   \n",
       "16           Iceland  PFJ  BIPA  65.555833      -23.965       11      0   N   \n",
       "17           Iceland  RKV  BIRK      64.13   -21.940556       48      0   N   \n",
       "18           Iceland  SIJ  BISI  66.133333   -18.916667       10      0   N   \n",
       "19           Iceland  VEY  BIVM  63.424303   -20.278875      326      0   N   \n",
       "20            Canada  YAM  CYAM  46.485001   -84.509445      630     -5   A   \n",
       "21            Canada  YAV  CYAV  50.056389     -97.0325      760     -6   A   \n",
       "22            Canada  YAW  CYAW  44.639721   -63.499444      167     -4   A   \n",
       "23            Canada  YAY  CYAY  51.391944   -56.083056      108   -3.5   A   \n",
       "24            Canada  YAZ  CYAZ  49.082222    -125.7725       80     -8   A   \n",
       "25            Canada  YBB  CYBB  68.534444   -89.808056       56     -7   A   \n",
       "26            Canada  YBC  CYBC    49.1325   -68.204444       71     -5   A   \n",
       "27            Canada  YBG  CYBG  48.330555   -70.996391      522     -5   A   \n",
       "28            Canada  YBK  CYBK  64.298889   -96.077778       59     -6   A   \n",
       "29            Canada  YBL  CYBL  49.950832  -125.270833      346     -8   A   \n",
       "30            Canada  YBR  CYBR      49.91   -99.951944     1343     -6   A   \n",
       "31            Canada  YCB  CYCB  69.108055  -105.138333       90     -7   A   \n",
       "32            Canada  YCD  CYCD  49.052333  -123.870167       93     -8   A   \n",
       "33            Canada  YCG  CYCG  49.296389    -117.6325     1624     -8   A   \n",
       "34            Canada  YCH  CYCH  47.007778   -65.449167      108     -4   A   \n",
       "35            Canada  YCL  CYCL  47.990833   -66.330278      132     -4   A   \n",
       "36            Canada  YCO  CYCO  67.816667  -115.143889       74     -7   A   \n",
       "37            Canada  YCT  CYCT  52.075001  -111.445278     2595     -7   A   \n",
       "38            Canada  YCW  CYCW  49.152779   -121.93889       32     -8   A   \n",
       "39            Canada  YCY  CYCY  70.486111   -68.516667       87     -5   A   \n",
       "40            Canada  YZS  CYCZ  64.193333   -83.359444     2661     -5   A   \n",
       "41            Canada  YDA  CYDA  64.043056  -139.127778     1215     -8   A   \n",
       "42            Canada  YDB  CYDB  61.371111  -139.040556     2647     -8   A   \n",
       "43            Canada  YDC  CYDC  49.468056  -120.511389     2298     -8   A   \n",
       "44            Canada  YDF  CYDF  49.210833   -57.391388       72   -3.5   A   \n",
       "45            Canada  YDL  CYDL  58.422222  -130.032222     2600     -8   A   \n",
       "46            Canada  YDN  CYDN  51.100834    -100.0525      999     -6   A   \n",
       "47            Canada  YDQ  CYDQ  55.742333     -120.183     2148     -7   A   \n",
       "48            Canada  YEG  CYEG  53.309723  -113.579722     2373     -7   A   \n",
       "49            Canada  YEK  CYEK  61.094166   -94.070833       32     -6   A   \n",
       "\n",
       "                 timezone  \n",
       "0    Pacific/Port_Moresby  \n",
       "1    Pacific/Port_Moresby  \n",
       "2    Pacific/Port_Moresby  \n",
       "3    Pacific/Port_Moresby  \n",
       "4    Pacific/Port_Moresby  \n",
       "5    Pacific/Port_Moresby  \n",
       "6         America/Godthab  \n",
       "7         America/Godthab  \n",
       "8         America/Godthab  \n",
       "9           America/Thule  \n",
       "10     Atlantic/Reykjavik  \n",
       "11     Atlantic/Reykjavik  \n",
       "12     Atlantic/Reykjavik  \n",
       "13     Atlantic/Reykjavik  \n",
       "14     Atlantic/Reykjavik  \n",
       "15     Atlantic/Reykjavik  \n",
       "16     Atlantic/Reykjavik  \n",
       "17     Atlantic/Reykjavik  \n",
       "18     Atlantic/Reykjavik  \n",
       "19     Atlantic/Reykjavik  \n",
       "20        America/Toronto  \n",
       "21       America/Winnipeg  \n",
       "22        America/Halifax  \n",
       "23       America/St_Johns  \n",
       "24      America/Vancouver  \n",
       "25       America/Edmonton  \n",
       "26        America/Toronto  \n",
       "27        America/Toronto  \n",
       "28       America/Winnipeg  \n",
       "29      America/Vancouver  \n",
       "30       America/Winnipeg  \n",
       "31       America/Edmonton  \n",
       "32      America/Vancouver  \n",
       "33      America/Vancouver  \n",
       "34        America/Halifax  \n",
       "35        America/Halifax  \n",
       "36       America/Edmonton  \n",
       "37       America/Edmonton  \n",
       "38      America/Vancouver  \n",
       "39        America/Toronto  \n",
       "40  America/Coral_Harbour  \n",
       "41      America/Vancouver  \n",
       "42      America/Vancouver  \n",
       "43      America/Vancouver  \n",
       "44       America/St_Johns  \n",
       "45      America/Vancouver  \n",
       "46       America/Winnipeg  \n",
       "47   America/Dawson_Creek  \n",
       "48       America/Edmonton  \n",
       "49       America/Winnipeg  "
      ]
     },
     "execution_count": 49,
     "metadata": {},
     "output_type": "execute_result"
    }
   ],
   "source": [
    "import pandas as pd\n",
    "\n",
    "conn = sqlite3.connect(\"flights.db\")\n",
    "df = pd.read_sql_query(\"SELECT * FROM airports LIMIT 50\", conn)\n",
    "df"
   ]
  },
  {
   "cell_type": "markdown",
   "metadata": {
    "slideshow": {
     "slide_type": "slide"
    }
   },
   "source": [
    "**Task**: \n",
    "Convert one of the earlier queries in the lesson to a pandas data frame"
   ]
  },
  {
   "cell_type": "code",
   "execution_count": null,
   "metadata": {},
   "outputs": [],
   "source": []
  },
  {
   "cell_type": "markdown",
   "metadata": {
    "slideshow": {
     "slide_type": "slide"
    }
   },
   "source": [
    "## On Your Own\n",
    "\n",
    "The [Chinook database](https://github.com/lerocha/chinook-database) is a sample database, representing a digital media store.\n",
    "\n",
    "You need to create a query that can rank tracks in term of popularity.\n",
    "\n",
    "The name of the database is `Chinook_Sqlite.sqlite`\n",
    "\n",
    "Database information:<br>\n",
    "- How many tables are in the database?\n",
    "- What's the primary key of each table?\n",
    "- What foreign keys join the tables together?\n",
    "- If you had to draw a schema of how the tables are connected, what would it look like?\n",
    "\n",
    "To answer the question:<br>\n",
    "- What are the max and min dates in the Invoice table?\n",
    "- What tables would you need to answer \"what is your most popular track?\"\n",
    "- What values from each table?"
   ]
  },
  {
   "cell_type": "code",
   "execution_count": 5,
   "metadata": {
    "slideshow": {
     "slide_type": "skip"
    }
   },
   "outputs": [],
   "source": [
    "# Getting Started\n",
    "\n",
    "con = sqlite3.connect('Chinook_Sqlite.sqlite')"
   ]
  },
  {
   "cell_type": "code",
   "execution_count": 89,
   "metadata": {},
   "outputs": [],
   "source": [
    "cursor2 = con.cursor()"
   ]
  },
  {
   "cell_type": "code",
   "execution_count": 149,
   "metadata": {},
   "outputs": [],
   "source": [
    "cursor2.execute(\n",
    "\"\"\"\n",
    "SELECT tbl_name\n",
    "FROM sqlite_master\n",
    "WHERE type='table'\n",
    "\"\"\"\n",
    ")"
   ]
  },
  {
   "cell_type": "code",
   "execution_count": 150,
   "metadata": {},
   "outputs": [],
   "source": [
    "cursor2.fetchall()"
   ]
  },
  {
   "cell_type": "code",
   "execution_count": null,
   "metadata": {},
   "outputs": [],
   "source": []
  }
 ],
 "metadata": {
  "kernelspec": {
   "display_name": "Python 3",
   "language": "python",
   "name": "python3"
  },
  "language_info": {
   "codemirror_mode": {
    "name": "ipython",
    "version": 3
   },
   "file_extension": ".py",
   "mimetype": "text/x-python",
   "name": "python",
   "nbconvert_exporter": "python",
   "pygments_lexer": "ipython3",
   "version": "3.6.9"
  }
 },
 "nbformat": 4,
 "nbformat_minor": 4
}
